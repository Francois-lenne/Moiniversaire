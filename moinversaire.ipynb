{
 "cells": [
  {
   "cell_type": "code",
   "execution_count": 1,
   "metadata": {},
   "outputs": [],
   "source": [
    "# création des listes nécessaires\n",
    "\n",
    "\n",
    "Prenom_nom = [\"Marie Proffit\",\"Marie Dutrieu\", \"Antoine Lenne\", \"Louis Proffit\",\"test\"]\n",
    "\n",
    "Jour_moiniversaire = [26,11,30,12,24]\n",
    "\n",
    "date_naissance = ('26/04/2001','11/05/2003','30/09/2003','12/06/2003')\n",
    "\n",
    "mail = [\"marie.proffit.etu@univ-lille.fr\", \"marie.dutrieux@gmail.com\", \"antoine.lenne.etu@univ-lille.fr\", \"louis.proffit.etu@univ-lille.fr\", \"francois.lenne.etu@univ-lille.fr\"]\n"
   ]
  },
  {
   "cell_type": "code",
   "execution_count": 2,
   "metadata": {},
   "outputs": [],
   "source": [
    "# personne avec un moiniversaire\n",
    "\n",
    "Marie = 26\n",
    "\n",
    "Marie_mail = \"marie.proffit.etu@univ-lille.fr\"\n",
    "\n",
    "Louis = 12\n",
    "\n",
    "Antoine = 30 \n"
   ]
  },
  {
   "cell_type": "code",
   "execution_count": 3,
   "metadata": {},
   "outputs": [
    {
     "name": "stdout",
     "output_type": "stream",
     "text": [
      "1\n"
     ]
    }
   ],
   "source": [
    "# récupération de la date d'aujourd'hui \n",
    "\n",
    "from datetime import datetime\n",
    "\n",
    "maintenant = datetime.now()\n",
    "\n",
    "\n",
    "\n",
    "jours_actuelle= int(maintenant.strftime(\"%d\"))\n",
    "\n",
    "\n",
    "\n",
    "print(jours_actuelle)\n",
    "\n",
    "\n",
    "\n"
   ]
  },
  {
   "cell_type": "code",
   "execution_count": 4,
   "metadata": {},
   "outputs": [],
   "source": [
    "from datetime import datetime\n",
    "\n",
    "def moiniverse_ou_non(x):\n",
    "    maintenant = datetime.now()\n",
    "    jours_actuelle= int(maintenant.strftime(\"%d\"))\n",
    "\n",
    "    if x == jours_actuelle: \n",
    "            bool = \"moiniversaire\"\n",
    "    else:\n",
    "        bool = \"pas_moiniversaire\"\n",
    "    return(bool)"
   ]
  },
  {
   "cell_type": "code",
   "execution_count": 5,
   "metadata": {},
   "outputs": [],
   "source": [
    "moiniverse_liste = list(map(moiniverse_ou_non, Jour_moiniversaire))"
   ]
  },
  {
   "cell_type": "code",
   "execution_count": 6,
   "metadata": {},
   "outputs": [
    {
     "ename": "IndexError",
     "evalue": "list index out of range",
     "output_type": "error",
     "traceback": [
      "\u001b[1;31m---------------------------------------------------------------------------\u001b[0m",
      "\u001b[1;31mIndexError\u001b[0m                                Traceback (most recent call last)",
      "Cell \u001b[1;32mIn [6], line 4\u001b[0m\n\u001b[0;32m      1\u001b[0m numero_liste_moiniversaire \u001b[38;5;241m=\u001b[39m [i \u001b[38;5;28;01mfor\u001b[39;00m i \u001b[38;5;129;01min\u001b[39;00m \u001b[38;5;28mrange\u001b[39m(\u001b[38;5;28mlen\u001b[39m(moiniverse_liste)) \u001b[38;5;28;01mif\u001b[39;00m moiniverse_liste[i] \u001b[38;5;241m==\u001b[39m \u001b[38;5;124m\"\u001b[39m\u001b[38;5;124mmoiniversaire\u001b[39m\u001b[38;5;124m\"\u001b[39m]\n\u001b[1;32m----> 4\u001b[0m numero_liste_moiniversaire \u001b[38;5;241m=\u001b[39m \u001b[38;5;28mint\u001b[39m(\u001b[43mnumero_liste_moiniversaire\u001b[49m\u001b[43m[\u001b[49m\u001b[38;5;241;43m0\u001b[39;49m\u001b[43m]\u001b[49m)\n",
      "\u001b[1;31mIndexError\u001b[0m: list index out of range"
     ]
    }
   ],
   "source": [
    "numero_liste_moiniversaire = [i for i in range(len(moiniverse_liste)) if moiniverse_liste[i] == \"moiniversaire\"]\n",
    "\n",
    "\n",
    "numero_liste_moiniversaire = int(numero_liste_moiniversaire[0])"
   ]
  },
  {
   "cell_type": "code",
   "execution_count": null,
   "metadata": {},
   "outputs": [
    {
     "name": "stdout",
     "output_type": "stream",
     "text": [
      "Joyeux moinversaire test !\n"
     ]
    }
   ],
   "source": [
    "object = (\"Joyeux moinversaire \" + Prenom_nom[numero_liste_moiniversaire] + \" !\")\n",
    "\n"
   ]
  },
  {
   "cell_type": "code",
   "execution_count": 7,
   "metadata": {},
   "outputs": [
    {
     "ename": "ModuleNotFoundError",
     "evalue": "No module named 'redmail'",
     "output_type": "error",
     "traceback": [
      "\u001b[1;31m---------------------------------------------------------------------------\u001b[0m",
      "\u001b[1;31mModuleNotFoundError\u001b[0m                       Traceback (most recent call last)",
      "Cell \u001b[1;32mIn [7], line 2\u001b[0m\n\u001b[0;32m      1\u001b[0m \u001b[38;5;66;03m# pip install redmail \u001b[39;00m\n\u001b[1;32m----> 2\u001b[0m \u001b[38;5;28;01mfrom\u001b[39;00m \u001b[38;5;21;01mredmail\u001b[39;00m \u001b[38;5;28;01mimport\u001b[39;00m outlook\n\u001b[0;32m      4\u001b[0m outlook\u001b[38;5;241m.\u001b[39muser_name \u001b[38;5;241m=\u001b[39m \u001b[38;5;124m\"\u001b[39m\u001b[38;5;124mmoiniversaire.lenne@outlook.com\u001b[39m\u001b[38;5;124m\"\u001b[39m\n\u001b[0;32m      5\u001b[0m outlook\u001b[38;5;241m.\u001b[39mpassword \u001b[38;5;241m=\u001b[39m \u001b[38;5;124m\"\u001b[39m\u001b[38;5;124mMoiniversaire59\u001b[39m\u001b[38;5;124m\"\u001b[39m\n",
      "\u001b[1;31mModuleNotFoundError\u001b[0m: No module named 'redmail'"
     ]
    }
   ],
   "source": [
    " # pip install redmail \n",
    "from redmail import outlook\n",
    "\n",
    "outlook.user_name = \"moiniversaire.lenne@outlook.com\"\n",
    "outlook.password = \"Moiniversaire59\"\n",
    "\n",
    "outlook.send(\n",
    "    receivers=[mail[numero_liste_moiniversaire]],\n",
    "    subject= object,\n",
    "    text=\"Hi, this is an example.\"\n",
    ")\n",
    "\n",
    "\n"
   ]
  },
  {
   "cell_type": "code",
   "execution_count": null,
   "metadata": {},
   "outputs": [],
   "source": [
    "import time \n",
    "from plyer import notification\n",
    "\n",
    "notification.notify(\n",
    "    title = \"TEST\",\n",
    "    message = \"ça marche ?\",\n",
    "    timeout = 30\n",
    ")"
   ]
  },
  {
   "cell_type": "code",
   "execution_count": 12,
   "metadata": {},
   "outputs": [
    {
     "name": "stdout",
     "output_type": "stream",
     "text": [
      "Collecting redmail\n",
      "  Using cached https://files.pythonhosted.org/packages/69/a7/25a4005d23a1ed4b9419d6e79e9e76487427477513d18899e9c94a332514/redmail-0.4.1-py3-none-any.whl\n",
      "Collecting jinja2 (from redmail)\n",
      "  Using cached https://files.pythonhosted.org/packages/bc/c3/f068337a370801f372f2f8f6bad74a5c140f6fda3d9de154052708dd3c65/Jinja2-3.1.2-py3-none-any.whl\n",
      "Collecting MarkupSafe>=2.0 (from jinja2->redmail)\n",
      "  Downloading https://files.pythonhosted.org/packages/6c/44/cd459988fe29cb82f0482fe6b6c47ec17ae700a500634edd876075d5e1ee/MarkupSafe-2.1.1-cp38-cp38-win32.whl\n",
      "Installing collected packages: MarkupSafe, jinja2, redmail\n",
      "Successfully installed MarkupSafe-2.1.1 jinja2-3.1.2 redmail-0.4.1\n",
      "Note: you may need to restart the kernel to use updated packages.\n"
     ]
    },
    {
     "name": "stderr",
     "output_type": "stream",
     "text": [
      "WARNING: You are using pip version 19.2.3, however version 22.2.2 is available.\n",
      "You should consider upgrading via the 'python -m pip install --upgrade pip' command.\n"
     ]
    }
   ],
   "source": [
    "pip install redmail"
   ]
  }
 ],
 "metadata": {
  "kernelspec": {
   "display_name": "Python 3.8.2 32-bit",
   "language": "python",
   "name": "python3"
  },
  "language_info": {
   "codemirror_mode": {
    "name": "ipython",
    "version": 3
   },
   "file_extension": ".py",
   "mimetype": "text/x-python",
   "name": "python",
   "nbconvert_exporter": "python",
   "pygments_lexer": "ipython3",
   "version": "3.8.2"
  },
  "orig_nbformat": 4,
  "vscode": {
   "interpreter": {
    "hash": "5bb83e925ab3ce844d45c0eebf6ac82cc5f9d628d60f925da3cbbd3a327099f4"
   }
  }
 },
 "nbformat": 4,
 "nbformat_minor": 2
}
